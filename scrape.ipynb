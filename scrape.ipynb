{
 "cells": [
  {
   "cell_type": "code",
   "execution_count": null,
   "metadata": {},
   "outputs": [],
   "source": [
    "import requests\n",
    "import datetime\n",
    "from bs4 import BeautifulSoup\n",
    "import pandas as pd\n",
    "from datetime import date\n",
    "from weasyprint import HTML\n",
    "\n",
    "# --- Configuration ---\n",
    "DATA_FILENAME = \"exchange_rates.csv\"\n",
    "PDF_FILENAME = \"exchange_rates.pdf\"\n",
    "\n",
    "# ... (rest of the scrape_exchange_rates function remains the same)\n",
    "\n",
    "if __name__ == \"__main__\":\n",
    "    exchange_rates_df = scrape_exchange_rates()\n",
    "\n",
    "    # --- Store data in CSV on GitHub ---\n",
    "    exchange_rates_df.to_csv(DATA_FILENAME, index=False)\n",
    "\n",
    "    # --- Create and store PDF on GitHub ---\n",
    "    html_content = exchange_rates_df.to_html(index=False)\n",
    "    HTML(string=html_content).write_pdf(PDF_FILENAME)\n"
   ]
  }
 ],
 "metadata": {
  "kernelspec": {
   "display_name": "Python 3",
   "language": "python",
   "name": "python3"
  },
  "language_info": {
   "name": "python",
   "version": "3.11.9"
  }
 },
 "nbformat": 4,
 "nbformat_minor": 2
}
